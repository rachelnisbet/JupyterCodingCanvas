{
 "cells": [
  {
   "cell_type": "markdown",
   "id": "06e06cf6-21e1-463f-b596-37da150253b8",
   "metadata": {
    "tags": []
   },
   "source": [
    " ## Heart Classification\n",
    " |Info | Details |\n",
    "| ---  | --- |\n",
    "|  DATA | heart_disease.csv |\n",
    "|  DESCRIPTION | The data set contains measurements on 304 patients, consisting of factors that potentially indicate the presence or absence of heart disease. |\n",
    "|PURPOSE | In this example, we will show different binary classification modeling techniques to predict the heart disease. |\n",
    "| SOURCE | Adapted from \"Heart Disease prediction Random forest Classifier https://www.kaggle.com/code/mruanova/heart-disease-prediction-random-forest-classifier by Mau Rua\n",
    "\n"
   ]
  },
  {
   "cell_type": "markdown",
   "id": "81e6291d-94f4-4ff5-ad62-fb3c444b5549",
   "metadata": {},
   "source": [
    "#### Loading the heart_disease data."
   ]
  },
  {
   "cell_type": "code",
   "execution_count": null,
   "id": "a5d6bda0-a6ce-400e-83ae-17fc6c5aa0a8",
   "metadata": {},
   "outputs": [],
   "source": [
    "title 'Predicting heart disease using different modeling techniques';\n",
    "options nosource;\n",
    "proc import\n",
    "    datafile=\"&WORKSPACE_PATH./data/heart_disease.csv\"\n",
    "    out=heart_disease dbms=csv replace;\n",
    "run;\n",
    "options source;\n",
    "\n",
    "proc format;\n",
    "    value heart_disease\n",
    "        0=\"No heart disease\"\n",
    "        1=\"With heart disease\"\n",
    "    ;\n",
    "    value sex_format\n",
    "        0=\"Female\"\n",
    "        1=\"Male\"\n",
    "    ;\n",
    "run;\n",
    "data heart_disease;\n",
    "    format target heart_disease. sex sex_format.;\n",
    "    set heart_disease;\n",
    "run;\n"
   ]
  },
  {
   "cell_type": "markdown",
   "id": "1c689ef2-484b-4f22-8577-200063358c9b",
   "metadata": {},
   "source": [
    "#### Print a few rows to show the original data."
   ]
  },
  {
   "cell_type": "code",
   "execution_count": null,
   "id": "bfc614e4-2c09-40fb-a6e6-e463bd3bd4cc",
   "metadata": {},
   "outputs": [],
   "source": [
    "title2 'Portion of heart_disease data';\n",
    "proc print data=heart_disease (obs=5); run;"
   ]
  },
  {
   "cell_type": "markdown",
   "id": "9d2af985-2649-4b14-97c9-dacc16be4fb9",
   "metadata": {
    "tags": []
   },
   "source": [
    "### Column Descriptions\n",
    "| Variable  | Description |\n",
    "| ---  | --- |\n",
    "| age | age in years|\n",
    "| sex| (1 = male; 0 = female)|\n",
    "| cp| chest pain type|\n",
    "| trestbps| resting blood pressure (in mm Hg on admission to the hospital)|\n",
    "| chol| serum cholesterol in mg/dl|\n",
    "| fbs| (fasting blood sugar > 120 mg/dl) (1 = true; 0 = false)|\n",
    "| restecg | resting electrocardiographic results|\n",
    "| thalch | maximum heart rate achieved|\n",
    "| exang| exercise induced angina (1 = yes; 0 = no)|\n",
    "| oldpeak| ST depression induced by exercise relative to rest|\n",
    "| slope| the slope of the peak exercise ST segment|\n",
    "| ca| number of major vessels (0-3) colored by fluoroscopy|\n",
    "| thal| 3 = normal; 6 = fixed defect; 7 = reversable defect|\n",
    "| target| refers to the presence of heart disease in the patient (1=yes, 0=no)|"
   ]
  },
  {
   "cell_type": "markdown",
   "id": "12896a1a-a6ba-4f38-976a-3e44257584e4",
   "metadata": {},
   "source": [
    "#### Visualization of heart disease percentages through a pie chart\n",
    " - Use the TEMPLATE procedure to customize the pie chart.\n",
    " - Use the SGRENDER procedure to display the pie chart with the customized\n",
    "   template\n",
    " - Show the overall heart disease percentage and the heart disease percentage\n",
    "   within sex"
   ]
  },
  {
   "cell_type": "code",
   "execution_count": null,
   "id": "4c4221ba-ae0d-4842-af94-5c8cc7855877",
   "metadata": {},
   "outputs": [],
   "source": [
    "proc template;\n",
    "    define statgraph simplepie;\n",
    "        begingraph;\n",
    "            entrytitle \"Heart Disease Percentage\";\n",
    "            layout region;\n",
    "                piechart category=target / name=\"p\"\n",
    "                     datalabelcontent=(percent)\n",
    "                     datalabellocation=inside\n",
    "                     dataskin=sheen;\n",
    "                discretelegend \"p\" / title=\"Target\" halign=left valign=bottom;\n",
    "            endlayout;\n",
    "        endgraph;\n",
    "    end;\n",
    "run;\n",
    "title2 'Percentage of heart disease in the data';\n",
    "proc sgrender data=heart_disease\n",
    "              template=simplepie;\n",
    "run;\n",
    "\n",
    "proc template;\n",
    "    define statgraph simplepie;\n",
    "        begingraph;\n",
    "            entrytitle \"Heart Disease Percentage\";\n",
    "            layout region;\n",
    "                piechart category=target / group=sex name=\"p\"\n",
    "                     datalabelcontent=(percent)\n",
    "                     datalabellocation=inside\n",
    "                     dataskin=sheen;\n",
    "                discretelegend \"p\" / title=\"Target\" halign=left valign=bottom;\n",
    "            endlayout;\n",
    "        endgraph;\n",
    "    end;\n",
    "run;\n",
    "title2 'Percentage of heart disease by gender in the data';\n",
    "proc sgrender data=heart_disease\n",
    "              template=simplepie;\n",
    "run;\n",
    "\n",
    "\n"
   ]
  },
  {
   "cell_type": "markdown",
   "id": "488098fa-2afa-4715-b58d-c74d0cd4cc11",
   "metadata": {
    "tags": []
   },
   "source": [
    "#### Correlation Analysis\n",
    " To better understand how different factors contribute to heart disease\n",
    " and how the factors correlate with each other, we will use two different\n",
    " visualization tools: a correlation heatmap and a pairwise scatter plot.\n",
    " \n",
    "  First, we use the CORR procedure to create the correlation matrix.\n"
   ]
  },
  {
   "cell_type": "code",
   "execution_count": null,
   "id": "52db00af-c3a7-440a-9bd2-8d186b8a0e40",
   "metadata": {},
   "outputs": [],
   "source": [
    "title2 'Output from the CORR procedure';\n",
    "ods output PearsonCorr=corr;\n",
    "proc corr data = heart_disease;\n",
    "    var target--fbs;\n",
    "run;"
   ]
  },
  {
   "cell_type": "markdown",
   "id": "2bf77248-effe-4203-b8dc-cc1f027ee411",
   "metadata": {},
   "source": [
    "#### Sort and transpose the output from the CORR procedure for plotting a heatmap."
   ]
  },
  {
   "cell_type": "code",
   "execution_count": null,
   "id": "4b58d564-d81e-4aa9-bb96-f4cde7430cd6",
   "metadata": {},
   "outputs": [],
   "source": [
    "proc sort data=Corr;\n",
    "    by variable;\n",
    "run;\n",
    "proc transpose data=Corr out=Corr_trans(rename=(COL1=Corr)) name=Correlation;\n",
    "    var target--fbs;\n",
    "    by variable;\n",
    "run;\n",
    "proc sort data=Corr_trans;\n",
    "    by variable correlation;\n",
    "run;"
   ]
  },
  {
   "cell_type": "markdown",
   "id": "843bccec-70f2-4fd7-ad13-b78e495d23c0",
   "metadata": {},
   "source": [
    "#### Use the SGPLOT procedure to produce the heatmap.\n",
    " - A few variables have strong positive or negative correlation with the \"target\"\n",
    "   (heart disease). For example, \"ca\", \"exang\", and \"oldpeak\" show strong positive\n",
    "   correlation with \"target\", while \"thal\" and \"thalch\" show strong negative\n",
    "   correlation to \"target\".\n",
    " - Some variables also show strong correlation with each other. For example,\n",
    "   \"slope\" has strong negative correlation with \"oldpeak\"."
   ]
  },
  {
   "cell_type": "code",
   "execution_count": null,
   "id": "2a5f5455-367d-4156-83d1-dfb8adbef05a",
   "metadata": {},
   "outputs": [],
   "source": [
    "title2 'Heatmap of the correlation matrix';\n",
    "proc sgplot data=Corr_trans noautolegend;\n",
    "    heatmap x=variable y=Correlation / colorresponse=Corr discretex discretey x2axis;\n",
    "    text x=Variable y=Correlation text=Corr  / textattrs=(size=5pt) x2axis;\n",
    "    label correlation='Pearson Correlation';\n",
    "    yaxis reverse display=(nolabel);\n",
    "    x2axis display=(nolabel);\n",
    "    gradlegend;\n",
    "run;\n",
    "\n"
   ]
  },
  {
   "cell_type": "markdown",
   "id": "d3fbe2ee-f0e4-4398-b267-bf2f74d36e96",
   "metadata": {},
   "source": [
    "#### Scatter Plot\n",
    "The next tool we can use to visualize the relationships is the pairwise scatter plot. We can color the plotted points by \"target\" to visualize whether different distributions exist between \"with heart disease\" and \"no heart disease\" on each scatter plot.\n",
    "\n",
    "For demonstration purposes, we pick only the variables that show strong correlation with \"target\". From the pairwise scatter plots, it is clear that the two groups (\"With heart disease\" vs \"No heart disease\") have different distribution patterns on these scatter plots."
   ]
  },
  {
   "cell_type": "code",
   "execution_count": null,
   "id": "b981ae30-6eb4-43aa-ab53-1dfeda86f981",
   "metadata": {},
   "outputs": [],
   "source": [
    "title2 'Pairwise scatter plots for interval variables';\n",
    "proc sgscatter data=heart_disease;\n",
    "     matrix ca exang oldpeak thal thalch /group=target diagonal=(histogram kernel);\n",
    "run;\n",
    "\n",
    "data heart_disease;\n",
    "   set heart_disease;\n",
    "   format target;\n",
    "run;"
   ]
  },
  {
   "cell_type": "markdown",
   "id": "de6caeeb-eb00-4914-8ef1-492f6242b27a",
   "metadata": {},
   "source": [
    "#### Partition\n",
    " Partition data into training and test sets.\n",
    " It is common to split the input data into training and test data. The\n",
    " PARTITION procedure is used to randomly partition HEART_DISEASE into\n",
    " HEART_DISEASE_TRAIN and HEART_DISEASE_TEST with an 80% to 20% ratio."
   ]
  },
  {
   "cell_type": "code",
   "execution_count": null,
   "id": "9ca35379-ef91-4265-b07a-70c187529755",
   "metadata": {},
   "outputs": [],
   "source": [
    "title2 'Create training and test data sets with the PARTITION procedure';\n",
    "proc partition data=heart_disease seed=12345\n",
    "    partind samppct=80;\n",
    "    output out=heart_disease_part;\n",
    "run;\n",
    "\n",
    "data heart_disease_train(drop=_partind_);\n",
    "    set heart_disease_part(where=(_partind_=1));\n",
    "run;\n",
    "\n",
    "data heart_disease_test(drop=_partind_);\n",
    "    set heart_disease_part(where=(_partind_~=1));\n",
    "run;\n",
    "\n",
    "\n"
   ]
  },
  {
   "cell_type": "markdown",
   "id": "ba4a4910-aa5b-4afd-9ce2-509fa5fe09f6",
   "metadata": {},
   "source": [
    "#### Modeling\n",
    " Finally, we will show 5 different classification modeling techniques by using 5 SAS procedures: LOGSELECT, TREESPLIT, GRADBOOST, FOREST, and SVMACHINE\n",
    "\n",
    "#### LOGSELECT procedure"
   ]
  },
  {
   "cell_type": "code",
   "execution_count": null,
   "id": "215aa779-2cc9-4eb6-a009-5f1a091104a8",
   "metadata": {},
   "outputs": [],
   "source": [
    "title2 'Build classification model using PROC LOGSELECT';\n",
    "ods output FitStatistics=logfitstat;\n",
    "proc logselect data=heart_disease_train technique=lbfgs maxiter=1000 partfit;\n",
    "    class target ca--fbs;\n",
    "    model target = age--fbs;\n",
    "    savestate rstore=logstore;\n",
    "run;\n",
    "\n",
    "data _null_;\n",
    "    set logfitstat;\n",
    "    if rowid = 'MISCLASS' then\n",
    "        call symputx('acc_train_logselect', (1-value));\n",
    "run;\n",
    "\n",
    "title3 'Score the model with ASTORE for the test data';\n",
    "proc astore;\n",
    "    score data=heart_disease_test rstore=logstore out=log_scoreout copyvars=(target);\n",
    "run;\n",
    "\n"
   ]
  },
  {
   "cell_type": "markdown",
   "id": "17f93095-ca05-4334-97ac-e646cea88849",
   "metadata": {},
   "source": [
    " #### Compute accuracy score:\n",
    " The percentage of patients in test\n",
    " data whose predicted heart disease\n",
    " status matched their actual status."
   ]
  },
  {
   "cell_type": "code",
   "execution_count": null,
   "id": "8eabac9a-14ab-43af-a3d5-af28e637a210",
   "metadata": {},
   "outputs": [],
   "source": [
    "data _null_;\n",
    "    retain matchSum 0;\n",
    "    set log_scoreout end=last;\n",
    "    match = (I_target = target);\n",
    "    matchSum + match;\n",
    "    if last then call symputx ('acc_test_logselect', (matchSum/_n_));\n",
    "run;\n",
    "\n"
   ]
  },
  {
   "cell_type": "markdown",
   "id": "f8d17e45-dda7-48a8-a17a-023fc3f89d13",
   "metadata": {},
   "source": [
    "####  TREESPLIT procedure"
   ]
  },
  {
   "cell_type": "code",
   "execution_count": null,
   "id": "c57d096c-4db6-4b8c-a6e4-ec2a1abf00f0",
   "metadata": {},
   "outputs": [],
   "source": [
    "title2 'Build classification model using PROC TREESPLIT';\n",
    "ods output treeperformance=treestat;\n",
    "proc treesplit data=heart_disease_train;\n",
    "    class target ca--fbs;\n",
    "    model target = age--fbs;\n",
    "    prune c45;\n",
    "    savestate rstore=dtstore;\n",
    "run;\n",
    "\n",
    "data _null_;\n",
    "    set treestat;\n",
    "    call symputx('acc_train_treesplit', (1-MiscRate));\n",
    "run;\n",
    "\n",
    "title3 'Score the model with ASTORE for the test data';\n",
    "proc astore;\n",
    "    score data=heart_disease_test rstore=dtstore out=dt_scoreout copyvars=(target);\n",
    "run;\n",
    "\n"
   ]
  },
  {
   "cell_type": "markdown",
   "id": "b3031ee9-0b75-4805-b1bb-6b5d677c9f32",
   "metadata": {},
   "source": [
    "#### Compute accuracy score:\n",
    " The percentage of patients in test\n",
    " data whose predicted heart disease\n",
    " status matched their actual status."
   ]
  },
  {
   "cell_type": "code",
   "execution_count": null,
   "id": "2acc9643-7f2c-4db5-b190-9af9724f1c80",
   "metadata": {},
   "outputs": [],
   "source": [
    "data _null_;\n",
    "    retain matchSum 0;\n",
    "    set dt_scoreout(keep=I_target target) end=last;\n",
    "    match = (I_target = target);\n",
    "    matchSum + match;\n",
    "    if last then call symputx ('acc_test_treesplit', (matchSum/_n_));\n",
    "run;\n",
    "\n"
   ]
  },
  {
   "cell_type": "markdown",
   "id": "98ffce7c-6980-47b6-add3-d6fe9912344a",
   "metadata": {},
   "source": [
    "#### GRADBOOST procedure"
   ]
  },
  {
   "cell_type": "code",
   "execution_count": null,
   "id": "73b249f9-4b24-43b9-9ae4-5217a5ff976a",
   "metadata": {},
   "outputs": [],
   "source": [
    "title2 'Build classification model using PROC GRADBOOST';\n",
    "ods output FitStatistics=gbfitstat;\n",
    "proc gradboost data=heart_disease_train;\n",
    "    input age--oldpeak / level=interval;\n",
    "    input ca--fbs / level=nominal;\n",
    "    target target / level=nominal;\n",
    "    savestate rstore=gbstore;\n",
    "run;\n",
    "\n",
    "data _null_;\n",
    "    set gbfitstat end=last;\n",
    "    if last then\n",
    "       call symputx('acc_train_gradboost', (1-MiscTrain));\n",
    "run;\n",
    "\n",
    "title3 'Score the model with ASTORE for the test data';\n",
    "proc astore;\n",
    "    score data=heart_disease_test rstore=gbstore out=gb_scoreout copyvars=(target);\n",
    "run;\n",
    "\n"
   ]
  },
  {
   "cell_type": "markdown",
   "id": "45fb2687-8c8d-49cf-976f-5f34b4f136bc",
   "metadata": {},
   "source": [
    "#### Compute accuracy score:\n",
    " The percentage of patients in test\n",
    " data whose predicted heart disease\n",
    " status matched their actual status."
   ]
  },
  {
   "cell_type": "code",
   "execution_count": null,
   "id": "8417ec07-2ee4-467b-8ba4-332fe5f65c7f",
   "metadata": {},
   "outputs": [],
   "source": [
    "data _null_;\n",
    "    retain matchSum 0;\n",
    "    set gb_scoreout(keep=I_target target) end=last;\n",
    "    match = (I_target = target);\n",
    "    matchSum + match;\n",
    "    if last then call symputx ('acc_test_gradboost', (matchSum/_n_));\n",
    "run;\n",
    "\n"
   ]
  },
  {
   "cell_type": "markdown",
   "id": "2b186b05-89a6-467e-875d-0f680fab529a",
   "metadata": {},
   "source": [
    "#### FOREST procedure\n"
   ]
  },
  {
   "cell_type": "code",
   "execution_count": null,
   "id": "f2667aa8-e2a0-425e-a51a-5feb299c0b73",
   "metadata": {},
   "outputs": [],
   "source": [
    "title2 'Build classification model using PROC FOREST';\n",
    "ods output modelInfo=forestModel;\n",
    "proc forest data=heart_disease_train;\n",
    "    input age--oldpeak / level=interval;\n",
    "    input ca--fbs / level=nominal;\n",
    "    target target / level=nominal;\n",
    "    savestate rstore=forstore;\n",
    "run;\n",
    "\n",
    "data _null_;\n",
    "    set forestModel;\n",
    "    if prxmatch('m/misclassification/i', description) then\n",
    "       call symputx('acc_train_forest', (1-value));\n",
    "run;\n",
    "\n",
    "title3 'Score the model with ASTORE for the test data';\n",
    "proc astore;\n",
    "    score data=heart_disease_test rstore=forstore out=for_scoreout copyvars=(target);\n",
    "run;\n",
    "\n"
   ]
  },
  {
   "cell_type": "markdown",
   "id": "05b186c0-b6fa-4130-84de-b10891f35c52",
   "metadata": {},
   "source": [
    "#### Compute accuracy score:\n",
    " The percentage of patients in test\n",
    " data whose predicted heart disease\n",
    " status matched their actual status."
   ]
  },
  {
   "cell_type": "code",
   "execution_count": null,
   "id": "8db516f1-1768-4b46-981d-7566a0a0e968",
   "metadata": {},
   "outputs": [],
   "source": [
    "data _null_;\n",
    "    retain matchSum 0;\n",
    "    set for_scoreout(keep=I_target target) end=last;\n",
    "    match = (I_target = target);\n",
    "    matchSum + match;\n",
    "    if last then call symputx ('acc_test_forest', (matchSum/_n_));\n",
    "run;\n",
    "\n",
    "\n"
   ]
  },
  {
   "cell_type": "markdown",
   "id": "c7926593-e207-4b25-b968-b8b063775150",
   "metadata": {},
   "source": [
    "#### SVMACHINE procedure\n"
   ]
  },
  {
   "cell_type": "code",
   "execution_count": null,
   "id": "a34c2e7c-50d7-4e27-ba5e-6f038292d418",
   "metadata": {},
   "outputs": [],
   "source": [
    "title2 'Build classification model using PROC SVMACHINE';\n",
    "ods output FitStatistics=svmstat;\n",
    "proc svmachine data=heart_disease_train;\n",
    "    input age--oldpeak / level=interval;\n",
    "    input ca--fbs / level=nominal;\n",
    "    target target / level=nominal;\n",
    "    savestate rstore=svmstore;\n",
    "run;\n",
    "\n",
    "data _null_;\n",
    "    set svmstat;\n",
    "    if statistic = 'Accuracy' then\n",
    "       call symputx('acc_train_svmachine', training);\n",
    "run;\n",
    "\n",
    "title3 'Score the model with ASTORE for the test data';\n",
    "proc astore;\n",
    "    score data=heart_disease_test rstore=svmstore out=svm_scoreout copyvars=(target);\n",
    "run;\n"
   ]
  },
  {
   "cell_type": "markdown",
   "id": "3edc26cb-e3a2-41dc-9a65-351200845901",
   "metadata": {},
   "source": [
    "#### Compute accuracy score:\n",
    " The percentage of patients in test\n",
    " data whose predicted heart disease\n",
    " status matched their actual status."
   ]
  },
  {
   "cell_type": "code",
   "execution_count": null,
   "id": "6fb3e767-c173-4934-b209-168cf9b17acd",
   "metadata": {},
   "outputs": [],
   "source": [
    "data _null_;\n",
    "    retain matchSum 0;\n",
    "    set svm_scoreout(keep=I_target target) end=last;\n",
    "    match = (I_target = target);\n",
    "    matchSum + match;\n",
    "    if last then call symputx ('acc_test_svmachine', (matchSum/_n_));\n",
    "run;\n",
    "\n"
   ]
  },
  {
   "cell_type": "code",
   "execution_count": null,
   "id": "f9872e2d-122d-4a9b-a113-20352a19b47b",
   "metadata": {},
   "outputs": [],
   "source": [
    "#### Comparison:\n",
    " We have completed the modeling and prediction using 5 different SAS Viya\n",
    " procedures for the HEART_DISEASE data set. We also recorded the training\n",
    " and test accuracy. In the section below, we will put all the recorded\n",
    " accuracy values together and use a bar-chart to display and compare them."
   ]
  },
  {
   "cell_type": "code",
   "execution_count": null,
   "id": "9b11b763-a9ea-43d1-a26c-c50993f8db31",
   "metadata": {},
   "outputs": [],
   "source": [
    "%macro CreateComparison;\n",
    "    %let allprocs = logselect treesplit gradboost forest svmachine;\n",
    "    data allMethods;\n",
    "        length procname $16. type $8.;\n",
    "        %do i = 1 %to %sysfunc(countw(&allprocs));\n",
    "            %let currentProc = %scan(&allprocs,&i);\n",
    "            procname = \"&currentProc\";\n",
    "            type = \"train\";\n",
    "            accuracy = &&&acc_train_&currentProc;\n",
    "            output;\n",
    "            procname = \"&currentProc\";\n",
    "            type = \"test\";\n",
    "            accuracy = &&&acc_test_&currentProc;\n",
    "            output;\n",
    "        %end;\n",
    "    run;\n",
    "    proc sgplot data=allMethods;\n",
    "        vbar procname / response=accuracy group=type nostatlabel datalabel\n",
    "                    groupdisplay=cluster dataskin=pressed;\n",
    "        xaxis display=(nolabel);\n",
    "        yaxis grid;\n",
    "    run;\n",
    "%mend;\n",
    "\n",
    "title2 'Compare accuracy across all 5 procedures';\n",
    "%CreateComparison;\n",
    "\n",
    "title;"
   ]
  }
 ],
 "metadata": {
  "kernelspec": {
   "display_name": "SAS",
   "language": "sas",
   "name": "sas"
  },
  "language_info": {
   "codemirror_mode": "sas",
   "file_extension": ".sas",
   "mimetype": "text/x-sas",
   "name": "sas"
  }
 },
 "nbformat": 4,
 "nbformat_minor": 5
}
