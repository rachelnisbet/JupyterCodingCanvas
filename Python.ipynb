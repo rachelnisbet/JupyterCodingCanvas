{
 "cells": [
  {
   "cell_type": "code",
   "execution_count": 1,
   "id": "024905fa-518e-438d-872c-654227057bdf",
   "metadata": {},
   "outputs": [],
   "source": [
    "import pandas as pd"
   ]
  },
  {
   "cell_type": "code",
   "execution_count": 3,
   "id": "fe3660ac-a718-4894-9c46-9ee1453c882b",
   "metadata": {},
   "outputs": [],
   "source": [
    "data = pd.read_csv(\"heart_disease.csv\")"
   ]
  },
  {
   "cell_type": "code",
   "execution_count": 4,
   "id": "49e6c92f-6bef-46f4-b14c-d6a078a8ba8e",
   "metadata": {},
   "outputs": [
    {
     "name": "stdout",
     "output_type": "stream",
     "text": [
      "   age  trestbps  chol  thalch  oldpeak   ca  sex  cp  exang  slope  thal  \\\n",
      "0   63       145   233     150      2.3  0.0    1   3      0      0     1   \n",
      "1   67       160   286     108      1.5  3.0    1   0      1      1     2   \n",
      "2   67       120   229     129      2.6  2.0    1   0      1      1     0   \n",
      "3   37       130   250     187      3.5  0.0    1   2      0      0     2   \n",
      "4   41       130   204     172      1.4  0.0    0   1      0      2     2   \n",
      "\n",
      "   restecg  fbs  target  \n",
      "0        0    1       0  \n",
      "1        0    0       1  \n",
      "2        0    0       1  \n",
      "3        1    0       0  \n",
      "4        0    0       0  \n"
     ]
    }
   ],
   "source": [
    "print(data.head())"
   ]
  },
  {
   "cell_type": "code",
   "execution_count": null,
   "id": "a2569df9-8039-44f2-b556-de95fe3b1b97",
   "metadata": {},
   "outputs": [],
   "source": []
  }
 ],
 "metadata": {
  "kernelspec": {
   "display_name": "Python 3 (ipykernel)",
   "language": "python",
   "name": "python3"
  },
  "language_info": {
   "codemirror_mode": {
    "name": "ipython",
    "version": 3
   },
   "file_extension": ".py",
   "mimetype": "text/x-python",
   "name": "python",
   "nbconvert_exporter": "python",
   "pygments_lexer": "ipython3",
   "version": "3.10.6"
  }
 },
 "nbformat": 4,
 "nbformat_minor": 5
}
