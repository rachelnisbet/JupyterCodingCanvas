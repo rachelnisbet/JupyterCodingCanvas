{
 "cells": [
  {
   "cell_type": "code",
   "execution_count": 1,
   "id": "1964a465-758b-47bf-ad3c-19c496826dc7",
   "metadata": {},
   "outputs": [
    {
     "name": "stderr",
     "output_type": "stream",
     "text": [
      "\n",
      "Attaching package: ‘dplyr’\n",
      "\n",
      "\n",
      "The following objects are masked from ‘package:stats’:\n",
      "\n",
      "    filter, lag\n",
      "\n",
      "\n",
      "The following objects are masked from ‘package:base’:\n",
      "\n",
      "    intersect, setdiff, setequal, union\n",
      "\n",
      "\n"
     ]
    },
    {
     "name": "stdout",
     "output_type": "stream",
     "text": [
      "      age           trestbps          chol           thalch     \n",
      " Min.   :28.00   Min.   : 94.0   Min.   :126.0   Min.   : 71.0  \n",
      " 1st Qu.:47.75   1st Qu.:120.0   1st Qu.:211.0   1st Qu.:133.8  \n",
      " Median :55.50   Median :130.0   Median :240.5   Median :153.0  \n",
      " Mean   :54.35   Mean   :131.7   Mean   :246.3   Mean   :149.7  \n",
      " 3rd Qu.:61.00   3rd Qu.:140.0   3rd Qu.:275.0   3rd Qu.:166.0  \n",
      " Max.   :77.00   Max.   :200.0   Max.   :564.0   Max.   :202.0  \n",
      "                                                                \n",
      "    oldpeak            ca              sex               cp        \n",
      " Min.   :0.000   Min.   :0.0000   Min.   :0.0000   Min.   :0.0000  \n",
      " 1st Qu.:0.000   1st Qu.:0.0000   1st Qu.:0.0000   1st Qu.:0.0000  \n",
      " Median :0.800   Median :0.0000   Median :1.0000   Median :1.0000  \n",
      " Mean   :1.036   Mean   :0.6722   Mean   :0.6809   Mean   :0.9605  \n",
      " 3rd Qu.:1.600   3rd Qu.:1.0000   3rd Qu.:1.0000   3rd Qu.:2.0000  \n",
      " Max.   :6.200   Max.   :3.0000   Max.   :1.0000   Max.   :3.0000  \n",
      "                 NA's   :5                                         \n",
      "     exang            slope            thal          restecg     \n",
      " Min.   :0.0000   Min.   :0.000   Min.   :0.000   Min.   :0.000  \n",
      " 1st Qu.:0.0000   1st Qu.:1.000   1st Qu.:0.000   1st Qu.:0.000  \n",
      " Median :0.0000   Median :1.000   Median :2.000   Median :1.000  \n",
      " Mean   :0.3257   Mean   :1.401   Mean   :1.151   Mean   :0.523  \n",
      " 3rd Qu.:1.0000   3rd Qu.:2.000   3rd Qu.:2.000   3rd Qu.:1.000  \n",
      " Max.   :1.0000   Max.   :2.000   Max.   :2.000   Max.   :2.000  \n",
      "                                                                 \n",
      "      fbs            target      \n",
      " Min.   :0.000   Min.   :0.0000  \n",
      " 1st Qu.:0.000   1st Qu.:0.0000  \n",
      " Median :0.000   Median :0.0000  \n",
      " Mean   :0.148   Mean   :0.4572  \n",
      " 3rd Qu.:0.000   3rd Qu.:1.0000  \n",
      " Max.   :1.000   Max.   :1.0000  \n",
      "                                 \n"
     ]
    }
   ],
   "source": [
    "library(dplyr)\n",
    "        \n",
    "# Read in the CSV file\n",
    "data <- read.csv(\"heart_disease.csv\")\n"
   ]
  },
  {
   "cell_type": "code",
   "execution_count": null,
   "id": "47b80393-4b9d-42ee-84a5-31c089234a1c",
   "metadata": {},
   "outputs": [],
   "source": [
    "# Summary statistics\n",
    "summary_stats <- summary(data)\n",
    "        \n",
    "# Print summary statistics\n",
    "print(summary_stats)"
   ]
  }
 ],
 "metadata": {
  "kernelspec": {
   "display_name": "R",
   "language": "R",
   "name": "ir"
  },
  "language_info": {
   "codemirror_mode": "r",
   "file_extension": ".r",
   "mimetype": "text/x-r-source",
   "name": "R",
   "pygments_lexer": "r",
   "version": "4.2.1"
  }
 },
 "nbformat": 4,
 "nbformat_minor": 5
}
